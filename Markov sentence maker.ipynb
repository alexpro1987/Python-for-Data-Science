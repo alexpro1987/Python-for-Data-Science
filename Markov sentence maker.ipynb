{
 "cells": [
  {
   "cell_type": "code",
   "execution_count": 1,
   "metadata": {},
   "outputs": [
    {
     "name": "stdout",
     "output_type": "stream",
     "text": [
      "I like to play with my toys look up or down \n",
      "\n",
      "I like sun I have a home I like time to play with my toys look up or down \n",
      "\n",
      "None \n",
      "\n",
      "I like to play with my toys look up or down \n",
      "\n",
      "I like to play This is a pig this pug is cute look up or down \n",
      "\n",
      "None \n",
      "\n",
      "I like to play This is a pig this pug is cute look up or down \n",
      "\n",
      "None \n",
      "\n",
      "None \n",
      "\n",
      "I like time to play with cars can I play with my toys look up or down \n",
      "\n",
      "I like to play with cars can I play with my toys look up or down \n",
      "\n",
      "None \n",
      "\n",
      "I like time to play This is a pig this pug is cute look up or down \n",
      "\n",
      "I like toys See I love God I like time to play with my toys look up or down \n",
      "\n",
      "I like time to play with cars can I play with my toys look up or down \n",
      "\n"
     ]
    }
   ],
   "source": [
    "import markovify\n",
    "\n",
    "with open(\"vocabulary.csv\") as f:\n",
    "    text = f.read()\n",
    "\n",
    "text_model = markovify.Text(text)\n",
    "\n",
    "#for i in range(5):\n",
    " #   print(text_model.make_sentence(),\"\\n\")\n",
    "\n",
    "# Print three randomly-generated sentences of no more than 280 characters\n",
    "for i in range(15):\n",
    "    print(text_model.make_short_sentence(75), \"\\n\")"
   ]
  },
  {
   "cell_type": "code",
   "execution_count": 2,
   "metadata": {},
   "outputs": [],
   "source": [
    "import pandas as pd\n",
    "import markovify"
   ]
  },
  {
   "cell_type": "code",
   "execution_count": 3,
   "metadata": {},
   "outputs": [
    {
     "data": {
      "text/html": [
       "<div>\n",
       "<style scoped>\n",
       "    .dataframe tbody tr th:only-of-type {\n",
       "        vertical-align: middle;\n",
       "    }\n",
       "\n",
       "    .dataframe tbody tr th {\n",
       "        vertical-align: top;\n",
       "    }\n",
       "\n",
       "    .dataframe thead th {\n",
       "        text-align: right;\n",
       "    }\n",
       "</style>\n",
       "<table border=\"1\" class=\"dataframe\">\n",
       "  <thead>\n",
       "    <tr style=\"text-align: right;\">\n",
       "      <th></th>\n",
       "      <th>headline_text</th>\n",
       "    </tr>\n",
       "  </thead>\n",
       "  <tbody>\n",
       "    <tr>\n",
       "      <td>0</td>\n",
       "      <td>I like mom</td>\n",
       "    </tr>\n",
       "    <tr>\n",
       "      <td>1</td>\n",
       "      <td>I love mom</td>\n",
       "    </tr>\n",
       "    <tr>\n",
       "      <td>2</td>\n",
       "      <td>Look I like toys</td>\n",
       "    </tr>\n",
       "  </tbody>\n",
       "</table>\n",
       "</div>"
      ],
      "text/plain": [
       "      headline_text\n",
       "0        I like mom\n",
       "1        I love mom\n",
       "2  Look I like toys"
      ]
     },
     "execution_count": 3,
     "metadata": {},
     "output_type": "execute_result"
    }
   ],
   "source": [
    "inp = pd.read_csv('vocab.csv')\n",
    "inp.head(3)"
   ]
  },
  {
   "cell_type": "code",
   "execution_count": 4,
   "metadata": {},
   "outputs": [],
   "source": [
    "text_model = markovify.NewlineText(inp.headline_text, state_size = 2)"
   ]
  },
  {
   "cell_type": "code",
   "execution_count": 5,
   "metadata": {},
   "outputs": [
    {
     "name": "stdout",
     "output_type": "stream",
     "text": [
      "yes I like sun \n",
      "\n",
      "None \n",
      "\n",
      "Look I like good cars \n",
      "\n",
      "This is a pig \n",
      "\n"
     ]
    }
   ],
   "source": [
    "# Print ten randomly-generated sentences using the built model\n",
    "for i in range(40):\n",
    "    if(text_model.make_sentence() is None):\n",
    "        print(text_model.make_sentence(), \"\\n\")"
   ]
  },
  {
   "cell_type": "code",
   "execution_count": null,
   "metadata": {},
   "outputs": [],
   "source": []
  }
 ],
 "metadata": {
  "kernelspec": {
   "display_name": "Python 3",
   "language": "python",
   "name": "python3"
  },
  "language_info": {
   "codemirror_mode": {
    "name": "ipython",
    "version": 3
   },
   "file_extension": ".py",
   "mimetype": "text/x-python",
   "name": "python",
   "nbconvert_exporter": "python",
   "pygments_lexer": "ipython3",
   "version": "3.7.1"
  }
 },
 "nbformat": 4,
 "nbformat_minor": 2
}
